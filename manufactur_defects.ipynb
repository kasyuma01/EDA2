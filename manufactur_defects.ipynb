{
 "cells": [
  {
   "cell_type": "markdown",
   "metadata": {},
   "source": [
    "BUSINESS UNDERSTANDING\n",
    "\n",
    "1.1 INTRODUCTION\n",
    "Discovering what causes losses in a business is important in order to increase business profits. These losses can be brought by manufacturing defects.\n",
    "Manufacturing defects are caused by errors made during the manufacturing process. These errors may include assembly errors, dimensional inaccuracies, dents, etc.\n",
    "Manufacturing defects lead to reworking, recall ,scraping of products  which is coslty and also damages the companies reputation.\n",
    "Manufacturing defects are categorised using severity level from minor level (which have minimal impacts) to critical ,which can cause harm.\n",
    "\n",
    "1.2 PROJECT OVERVIEW\n",
    "Analysing manufacturing defects in products will assist in determining losses to the business and using EDA will help visualise the data better\n",
    "\n",
    "1.3 BUSINESS PROBLEM\n",
    "1. Determine losses due to manufacturing defects\n",
    "2. Find most effective inspection method of defect detection\n",
    "3. Determine severity level of defects in order to classify them\n",
    "\n",
    "1.4 OBJECTIVES\n",
    "A. Use EDA to understand the data \n",
    "B. Determine severity level with highest cost of repairs\n",
    "C. determine most effective method of inspection\n",
    "\n",
    "1.5 STAKEHOLDERS\n",
    "A. Manufacturing engineers\n",
    "B. Quality assurance professionals\n",
    "C. Researchers and Data Scientists\n"
   ]
  },
  {
   "cell_type": "markdown",
   "metadata": {},
   "source": [
    "2 DATA PREPARATION\n",
    "\n",
    "2.1 Importing libraries"
   ]
  },
  {
   "cell_type": "code",
   "execution_count": 2,
   "metadata": {},
   "outputs": [],
   "source": [
    "#import all libraries\n",
    "import numpy as np\n",
    "import pandas as pd\n",
    "import sqlite3\n",
    "import matplotlib.pyplot as plt\n",
    "%matplotlib inline \n",
    "\n"
   ]
  },
  {
   "cell_type": "markdown",
   "metadata": {},
   "source": [
    "2.2 LOADING DATASETS"
   ]
  },
  {
   "cell_type": "code",
   "execution_count": 3,
   "metadata": {},
   "outputs": [
    {
     "data": {
      "text/html": [
       "<div>\n",
       "<style scoped>\n",
       "    .dataframe tbody tr th:only-of-type {\n",
       "        vertical-align: middle;\n",
       "    }\n",
       "\n",
       "    .dataframe tbody tr th {\n",
       "        vertical-align: top;\n",
       "    }\n",
       "\n",
       "    .dataframe thead th {\n",
       "        text-align: right;\n",
       "    }\n",
       "</style>\n",
       "<table border=\"1\" class=\"dataframe\">\n",
       "  <thead>\n",
       "    <tr style=\"text-align: right;\">\n",
       "      <th></th>\n",
       "      <th>defect_id</th>\n",
       "      <th>product_id</th>\n",
       "      <th>defect_type</th>\n",
       "      <th>defect_date</th>\n",
       "      <th>defect_location</th>\n",
       "      <th>severity</th>\n",
       "      <th>inspection_method</th>\n",
       "      <th>repair_cost</th>\n",
       "    </tr>\n",
       "  </thead>\n",
       "  <tbody>\n",
       "    <tr>\n",
       "      <th>0</th>\n",
       "      <td>1</td>\n",
       "      <td>15</td>\n",
       "      <td>Structural</td>\n",
       "      <td>6/6/2024</td>\n",
       "      <td>Component</td>\n",
       "      <td>Minor</td>\n",
       "      <td>Visual Inspection</td>\n",
       "      <td>245.47</td>\n",
       "    </tr>\n",
       "    <tr>\n",
       "      <th>1</th>\n",
       "      <td>2</td>\n",
       "      <td>6</td>\n",
       "      <td>Functional</td>\n",
       "      <td>4/26/2024</td>\n",
       "      <td>Component</td>\n",
       "      <td>Minor</td>\n",
       "      <td>Visual Inspection</td>\n",
       "      <td>26.87</td>\n",
       "    </tr>\n",
       "    <tr>\n",
       "      <th>2</th>\n",
       "      <td>3</td>\n",
       "      <td>84</td>\n",
       "      <td>Structural</td>\n",
       "      <td>2/15/2024</td>\n",
       "      <td>Internal</td>\n",
       "      <td>Minor</td>\n",
       "      <td>Automated Testing</td>\n",
       "      <td>835.81</td>\n",
       "    </tr>\n",
       "    <tr>\n",
       "      <th>3</th>\n",
       "      <td>4</td>\n",
       "      <td>10</td>\n",
       "      <td>Functional</td>\n",
       "      <td>3/28/2024</td>\n",
       "      <td>Internal</td>\n",
       "      <td>Critical</td>\n",
       "      <td>Automated Testing</td>\n",
       "      <td>444.47</td>\n",
       "    </tr>\n",
       "    <tr>\n",
       "      <th>4</th>\n",
       "      <td>5</td>\n",
       "      <td>14</td>\n",
       "      <td>Cosmetic</td>\n",
       "      <td>4/26/2024</td>\n",
       "      <td>Component</td>\n",
       "      <td>Minor</td>\n",
       "      <td>Manual Testing</td>\n",
       "      <td>823.64</td>\n",
       "    </tr>\n",
       "  </tbody>\n",
       "</table>\n",
       "</div>"
      ],
      "text/plain": [
       "   defect_id  product_id defect_type defect_date defect_location  severity  \\\n",
       "0          1          15  Structural    6/6/2024       Component     Minor   \n",
       "1          2           6  Functional   4/26/2024       Component     Minor   \n",
       "2          3          84  Structural   2/15/2024        Internal     Minor   \n",
       "3          4          10  Functional   3/28/2024        Internal  Critical   \n",
       "4          5          14    Cosmetic   4/26/2024       Component     Minor   \n",
       "\n",
       "   inspection_method  repair_cost  \n",
       "0  Visual Inspection       245.47  \n",
       "1  Visual Inspection        26.87  \n",
       "2  Automated Testing       835.81  \n",
       "3  Automated Testing       444.47  \n",
       "4     Manual Testing       823.64  "
      ]
     },
     "execution_count": 3,
     "metadata": {},
     "output_type": "execute_result"
    }
   ],
   "source": [
    "df = pd.read_csv(r\"defects.csv\")\n",
    "df.head()"
   ]
  },
  {
   "cell_type": "markdown",
   "metadata": {},
   "source": [
    "3 DATA UNDERSTANDING\n"
   ]
  },
  {
   "cell_type": "code",
   "execution_count": 4,
   "metadata": {},
   "outputs": [
    {
     "name": "stdout",
     "output_type": "stream",
     "text": [
      "<class 'pandas.core.frame.DataFrame'>\n",
      "RangeIndex: 1000 entries, 0 to 999\n",
      "Data columns (total 8 columns):\n",
      " #   Column             Non-Null Count  Dtype  \n",
      "---  ------             --------------  -----  \n",
      " 0   defect_id          1000 non-null   int64  \n",
      " 1   product_id         1000 non-null   int64  \n",
      " 2   defect_type        1000 non-null   object \n",
      " 3   defect_date        1000 non-null   object \n",
      " 4   defect_location    1000 non-null   object \n",
      " 5   severity           1000 non-null   object \n",
      " 6   inspection_method  1000 non-null   object \n",
      " 7   repair_cost        1000 non-null   float64\n",
      "dtypes: float64(1), int64(2), object(5)\n",
      "memory usage: 62.6+ KB\n"
     ]
    }
   ],
   "source": [
    "###___ANALYZING THE DATASET\n",
    "df.info()"
   ]
  },
  {
   "cell_type": "markdown",
   "metadata": {},
   "source": [
    "The artist dataframe has 8 columns and each column has 1000 data entries with 2 columns having integer datatype, 5 with object data type and 1 with float datatypes"
   ]
  },
  {
   "cell_type": "code",
   "execution_count": 5,
   "metadata": {},
   "outputs": [
    {
     "data": {
      "text/plain": [
       "defect_id            1000\n",
       "product_id           1000\n",
       "defect_type          1000\n",
       "defect_date          1000\n",
       "defect_location      1000\n",
       "severity             1000\n",
       "inspection_method    1000\n",
       "repair_cost          1000\n",
       "dtype: int64"
      ]
     },
     "execution_count": 5,
     "metadata": {},
     "output_type": "execute_result"
    }
   ],
   "source": [
    "df.count()"
   ]
  },
  {
   "cell_type": "markdown",
   "metadata": {},
   "source": [
    "Gives the non null values of each column"
   ]
  },
  {
   "cell_type": "markdown",
   "metadata": {},
   "source": [
    "4. DATA CLEANING\n",
    "4.1 CHECKING NULLS"
   ]
  },
  {
   "cell_type": "code",
   "execution_count": 6,
   "metadata": {},
   "outputs": [
    {
     "name": "stdout",
     "output_type": "stream",
     "text": [
      "There are no missing values in  defect_id column\n",
      "There are no missing values in  product_id column\n",
      "There are no missing values in  defect_type column\n",
      "There are no missing values in  defect_date column\n",
      "There are no missing values in  defect_location column\n",
      "There are no missing values in  severity column\n",
      "There are no missing values in  inspection_method column\n",
      "There are no missing values in  repair_cost column\n"
     ]
    }
   ],
   "source": [
    "# check for null values using 'isnull'\n",
    "null_values = df.isnull()\n",
    "null_series = null_values.sum()\n",
    "\n",
    "for x in null_series.index:\n",
    "    if null_series[x] == 0:\n",
    "        print(\"There are no missing values in \", x, \"column\")\n",
    "    else:\n",
    "        print(\"There are missing values in \", x)\n",
    "   "
   ]
  },
  {
   "cell_type": "markdown",
   "metadata": {},
   "source": [
    "There are no null values in any column"
   ]
  },
  {
   "cell_type": "markdown",
   "metadata": {},
   "source": [
    "4.2 CHECK DUPLICATES"
   ]
  },
  {
   "cell_type": "code",
   "execution_count": 7,
   "metadata": {},
   "outputs": [
    {
     "data": {
      "text/plain": [
       "0"
      ]
     },
     "execution_count": 7,
     "metadata": {},
     "output_type": "execute_result"
    }
   ],
   "source": [
    "df.duplicated().sum()"
   ]
  },
  {
   "cell_type": "markdown",
   "metadata": {},
   "source": [
    "There are no duplicated rows"
   ]
  },
  {
   "cell_type": "code",
   "execution_count": 8,
   "metadata": {},
   "outputs": [
    {
     "data": {
      "text/plain": [
       "str"
      ]
     },
     "execution_count": 8,
     "metadata": {},
     "output_type": "execute_result"
    }
   ],
   "source": [
    "type(df.loc[2,\"defect_date\"])"
   ]
  },
  {
   "cell_type": "markdown",
   "metadata": {},
   "source": [
    "5 DATA VISUALISATION"
   ]
  },
  {
   "cell_type": "code",
   "execution_count": 9,
   "metadata": {},
   "outputs": [
    {
     "data": {
      "image/png": "[encoded data removed]",
      "text/plain": [
       "<Figure size 1080x432 with 1 Axes>"
      ]
     },
     "metadata": {},
     "output_type": "display_data"
    }
   ],
   "source": [
    "severity_count = df['severity'].value_counts()\n",
    "explode = (0.1, 0, 0)\n",
    "fig = plt.figure(figsize=(15,6))\n",
    "severity_count.plot.pie(autopct='%1.1f%%', labeldistance=.4,  pctdistance=.85, explode=explode, textprops={'size': 'medium'})\n",
    "plt.title(\"Pie chart by number of severity level\")\n",
    "plt.show;"
   ]
  },
  {
   "cell_type": "markdown",
   "metadata": {},
   "source": [
    "The pie chart shows that most severity level of defects are minor "
   ]
  },
  {
   "cell_type": "code",
   "execution_count": 10,
   "metadata": {},
   "outputs": [
    {
     "data": {
      "image/png": "[encoded data removed]",
      "text/plain": [
       "<Figure size 720x432 with 1 Axes>"
      ]
     },
     "metadata": {
      "needs_background": "light"
     },
     "output_type": "display_data"
    }
   ],
   "source": [
    "grup = df.groupby(\"severity\")['repair_cost'].sum()\n",
    "grup['Minor']\n",
    "\n",
    "\n",
    "plt.figure(figsize=(10,6))\n",
    "\n",
    "grup.plot.barh(color=['red', 'blue', \"yellow\"])\n",
    "\n",
    "plt.ylabel(\"Severity Level\") \n",
    "plt.xlabel(\"Cost of repair\")\n",
    "\n",
    "plt.title(\"Graph of Severitly level against cost of repair\")\n",
    "plt.show;\n"
   ]
  },
  {
   "cell_type": "markdown",
   "metadata": {},
   "source": [
    "Manufacturing defects of minor severity level have the highest cost of repairs"
   ]
  },
  {
   "cell_type": "code",
   "execution_count": 49,
   "metadata": {},
   "outputs": [
    {
     "data": {
      "image/png": "[encoded data removed]",
      "text/plain": [
       "<Figure size 720x432 with 1 Axes>"
      ]
     },
     "metadata": {
      "needs_background": "light"
     },
     "output_type": "display_data"
    }
   ],
   "source": [
    "grup2 = df.groupby([\"severity\"])['inspection_method'].value_counts()\n",
    "\n",
    "\n",
    "plt.figure(figsize=(10,6))\n",
    "\n",
    "grup2.plot.barh(color=['red', 'blue', \"yellow\"])\n",
    "\n",
    "plt.ylabel(\"Severity Level, method\") \n",
    "plt.xlabel(\"Count\")\n",
    "\n",
    "plt.title(\"Graph of Severity level and method of inspection against cost of repair\")\n",
    "plt.show;\n"
   ]
  },
  {
   "cell_type": "markdown",
   "metadata": {},
   "source": [
    "For Critical severity level manual Testing was the most used\n",
    "For Moderate severity Visual inspection was most used\n",
    "For Minor severity level manual Testing was most used"
   ]
  }
 ],
 "metadata": {
  "kernelspec": {
   "display_name": "learn-env",
   "language": "python",
   "name": "python3"
  },
  "language_info": {
   "codemirror_mode": {
    "name": "ipython",
    "version": 3
   },
   "file_extension": ".py",
   "mimetype": "text/x-python",
   "name": "python",
   "nbconvert_exporter": "python",
   "pygments_lexer": "ipython3",
   "version": "3.8.5"
  }
 },
 "nbformat": 4,
 "nbformat_minor": 2
}
